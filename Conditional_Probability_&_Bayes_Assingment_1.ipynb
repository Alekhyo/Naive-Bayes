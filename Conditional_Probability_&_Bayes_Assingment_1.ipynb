{
  "nbformat": 4,
  "nbformat_minor": 0,
  "metadata": {
    "colab": {
      "name": "Conditional_Probability_&_Bayes_Assingment_1 (1).ipynb",
      "provenance": [],
      "collapsed_sections": [],
      "include_colab_link": true
    },
    "kernelspec": {
      "display_name": "Python 3",
      "language": "python",
      "name": "python3"
    },
    "language_info": {
      "codemirror_mode": {
        "name": "ipython",
        "version": 3
      },
      "file_extension": ".py",
      "mimetype": "text/x-python",
      "name": "python",
      "nbconvert_exporter": "python",
      "pygments_lexer": "ipython3",
      "version": "3.7.6"
    }
  },
  "cells": [
    {
      "cell_type": "markdown",
      "metadata": {
        "id": "view-in-github",
        "colab_type": "text"
      },
      "source": [
        "<a href=\"https://colab.research.google.com/github/Alekhyo/Naive-Bayes/blob/master/Conditional_Probability_%26_Bayes_Assingment_1.ipynb\" target=\"_parent\"><img src=\"https://colab.research.google.com/assets/colab-badge.svg\" alt=\"Open In Colab\"/></a>"
      ]
    },
    {
      "cell_type": "markdown",
      "metadata": {
        "id": "GLFfqfJM9dBZ",
        "colab_type": "text"
      },
      "source": [
        "#Bayes' Theorem \n",
        "\n",
        "It is said that the Reverend Thomas Bayes developed his rule on inverse probability while he was trying to prove the existence of God somewhere around 1740. He came up with a method for calculating the probability of an event occurring given that another event has occurred. Starting out with the prior probability (or believe) $P(A)$, when given a likelihood) $P(B\\ |\\ A)$ and evidence $P(B)$ we arrive at the posterior probability $P(A\\ |\\ B)$. Bayes Rule proves to be a powerful tool and is widely used in diverging areas like economics, artificial intelligence, medicine, journalism, military, just to name a few. Most spam filters use Bayes Rule in one way or another. The Bayes' Theorem formula is, posterior = likelihood times prior, over evidence:\n",
        "\n",
        "$$\n",
        "P(A\\ |\\ B)=\\frac{P(B\\ |\\ A)\\cdot P(A)}{P(B)}\n",
        "$$\n",
        "The practical power of Bayes Rule is that we often can't find the posterior directly, yet we do know the likelihood of the test and $P(A)$."
      ]
    },
    {
      "cell_type": "code",
      "metadata": {
        "colab_type": "code",
        "id": "JiJqw-8Gn27q",
        "outputId": "3d51bb9a-3b8f-4124-bbd7-499adac2e30f",
        "colab": {
          "base_uri": "https://localhost:8080/",
          "height": 34
        }
      },
      "source": [
        "print(\"-\"*100)"
      ],
      "execution_count": 0,
      "outputs": [
        {
          "output_type": "stream",
          "text": [
            "----------------------------------------------------------------------------------------------------\n"
          ],
          "name": "stdout"
        }
      ]
    },
    {
      "cell_type": "markdown",
      "metadata": {
        "colab_type": "text",
        "id": "Pt-CNCwbsgIr"
      },
      "source": [
        "\n",
        "\n",
        "\n",
        "\n",
        "Q1- What is the chance of someone having COPD (a life-threatening lung disease) given he or she is a smoker - $P(A|B)$. This statistic is hard to figure out, but we do know from medical studies the probability of someone being a smoker given that he/she has COPD - $P(B|A)$. We also know $P(B)$ - the probability that a person is a smoker and $P(A)$ - the chance that someone has COPD. The figures below are rough estimations:\n",
        "\n",
        "$$\n",
        "P(A)=0.07\\ \\small{having\\ COPD}\\\\\n",
        "P(B)=0.18\\ \\small{smokers}\\\\\n",
        "P(B\\ |\\ A)=0.85\\ \\small{is\\ or\\ was\\ smoker\\ and\\ given\\ COPD\\ diagnosis}\n",
        "$$\n"
      ]
    },
    {
      "cell_type": "code",
      "metadata": {
        "colab_type": "code",
        "id": "zL06pf9CwJcM",
        "colab": {}
      },
      "source": [
        "# Q1- Now Answer- What is the probability of someone having COPD given the person is or was a smoker?:"
      ],
      "execution_count": 0,
      "outputs": []
    },
    {
      "cell_type": "code",
      "metadata": {
        "id": "VmYK4ZOx9dBp",
        "colab_type": "code",
        "colab": {},
        "outputId": "a88662d4-e266-4ccc-ef81-031e2dd75b44"
      },
      "source": [
        "print(\"The probability is {}%\".format(round((0.85*0.07*100/0.18),4)))"
      ],
      "execution_count": 0,
      "outputs": [
        {
          "output_type": "stream",
          "text": [
            "The probability is 33.0556%\n"
          ],
          "name": "stdout"
        }
      ]
    },
    {
      "cell_type": "code",
      "metadata": {
        "colab_type": "code",
        "id": "L5Yub66Tsg5j",
        "colab": {}
      },
      "source": [
        "#import packages\n",
        "import numpy as np\n",
        "import pandas as pd"
      ],
      "execution_count": 0,
      "outputs": []
    },
    {
      "cell_type": "code",
      "metadata": {
        "colab_type": "code",
        "id": "wRtFE-zJvYYk",
        "colab": {}
      },
      "source": [
        "# load dataset\n",
        "df = pd.read_csv('cancer_test_data.csv')"
      ],
      "execution_count": 0,
      "outputs": []
    },
    {
      "cell_type": "code",
      "metadata": {
        "colab_type": "code",
        "id": "-hzLnvE-vgPx",
        "colab": {}
      },
      "source": [
        "# Q2- What proportion of patients who tested positive has cancer?"
      ],
      "execution_count": 0,
      "outputs": []
    },
    {
      "cell_type": "code",
      "metadata": {
        "id": "QZsUeMcm9dB8",
        "colab_type": "code",
        "colab": {},
        "outputId": "564aae3b-b4d7-40f5-cd39-840181899f7a"
      },
      "source": [
        "P=df[df['test_result']=='Positive'].shape[0]\n",
        "PC=df[(df['test_result']=='Positive') & (df['has_cancer']==True)].shape[0]\n",
        "print(\"The proportion of patients who tested positive has cancer is {}%\".format(round(PC*100/P,2)))"
      ],
      "execution_count": 0,
      "outputs": [
        {
          "output_type": "stream",
          "text": [
            "The proportion of patients who tested positive has cancer is 34.28%\n"
          ],
          "name": "stdout"
        }
      ]
    },
    {
      "cell_type": "code",
      "metadata": {
        "colab_type": "code",
        "id": "6wzcxUD9vmt4",
        "colab": {}
      },
      "source": [
        "# Q3- What proportion of patients who tested positive doesn't have cancer?"
      ],
      "execution_count": 0,
      "outputs": []
    },
    {
      "cell_type": "code",
      "metadata": {
        "id": "qlv7MooH9dCR",
        "colab_type": "code",
        "colab": {},
        "outputId": "ca5c0cb8-b329-4a8f-a29c-5aa222382936"
      },
      "source": [
        "P=df[df['test_result']=='Positive'].shape[0]\n",
        "PNC=df[(df['test_result']=='Positive') & (df['has_cancer']==False)].shape[0]\n",
        "print(\"The proportion of patients who tested positive doesn't have cancer is {}%\".format(round(PNC*100/P,2)))"
      ],
      "execution_count": 0,
      "outputs": [
        {
          "output_type": "stream",
          "text": [
            "The proportion of patients who tested positive doesn't have cancer is 65.72%\n"
          ],
          "name": "stdout"
        }
      ]
    },
    {
      "cell_type": "code",
      "metadata": {
        "colab_type": "code",
        "id": "tniJH4yLvrGj",
        "colab": {}
      },
      "source": [
        "# Q4- What proportion of patients who tested negative has cancer?"
      ],
      "execution_count": 0,
      "outputs": []
    },
    {
      "cell_type": "code",
      "metadata": {
        "id": "YVlFrXth9dCc",
        "colab_type": "code",
        "colab": {},
        "outputId": "4fed67b5-7781-48b7-a1a0-23003be760b9"
      },
      "source": [
        "N=df[df['test_result']=='Negative'].shape[0]\n",
        "NC=df[(df['test_result']=='Negative') & (df['has_cancer']==True)].shape[0]\n",
        "print(\"The proportion of patients who tested negative has cancer is {}%\".format(round(NC*100/N,2)))"
      ],
      "execution_count": 0,
      "outputs": [
        {
          "output_type": "stream",
          "text": [
            "The proportion of patients who tested negative has cancer is 1.38%\n"
          ],
          "name": "stdout"
        }
      ]
    },
    {
      "cell_type": "code",
      "metadata": {
        "colab_type": "code",
        "id": "gHxm4eZVvsJ7",
        "colab": {}
      },
      "source": [
        "# Q5- What proportion of patients who tested negative doesn't have cancer?"
      ],
      "execution_count": 0,
      "outputs": []
    },
    {
      "cell_type": "code",
      "metadata": {
        "colab_type": "code",
        "id": "4Oo_zWWyvvh_",
        "colab": {},
        "outputId": "47dcfc30-3440-43d7-f467-1421b3693aeb"
      },
      "source": [
        "N=df[df['test_result']=='Negative'].shape[0]\n",
        "NNC=df[(df['test_result']=='Negative') & (df['has_cancer']==False)].shape[0]\n",
        "print(\"The proportion of patients who tested negative doesnot have cancer is {}%\".format(round(NNC*100/N,2)))"
      ],
      "execution_count": 0,
      "outputs": [
        {
          "output_type": "stream",
          "text": [
            "The proportion of patients who tested negative doesnot have cancer is 98.62%\n"
          ],
          "name": "stdout"
        }
      ]
    }
  ]
}