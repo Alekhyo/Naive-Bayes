{
  "nbformat": 4,
  "nbformat_minor": 0,
  "metadata": {
    "kernelspec": {
      "display_name": "Python 3",
      "language": "python",
      "name": "python3"
    },
    "language_info": {
      "codemirror_mode": {
        "name": "ipython",
        "version": 3
      },
      "file_extension": ".py",
      "mimetype": "text/x-python",
      "name": "python",
      "nbconvert_exporter": "python",
      "pygments_lexer": "ipython3",
      "version": "3.7.6"
    },
    "colab": {
      "name": "NaiveBayes_Assignment2.ipynb",
      "provenance": [],
      "include_colab_link": true
    }
  },
  "cells": [
    {
      "cell_type": "markdown",
      "metadata": {
        "id": "view-in-github",
        "colab_type": "text"
      },
      "source": [
        "<a href=\"https://colab.research.google.com/github/Alekhyo/Naive-Bayes/blob/master/NaiveBayes_Assignment2.ipynb\" target=\"_parent\"><img src=\"https://colab.research.google.com/assets/colab-badge.svg\" alt=\"Open In Colab\"/></a>"
      ]
    },
    {
      "cell_type": "code",
      "metadata": {
        "id": "ELG2aWDiXmeZ",
        "colab_type": "code",
        "colab": {}
      },
      "source": [
        "import pandas as pd\n",
        "df=pd.read_csv('toy.csv')"
      ],
      "execution_count": 0,
      "outputs": []
    },
    {
      "cell_type": "code",
      "metadata": {
        "id": "5AiQAq1vXmed",
        "colab_type": "code",
        "colab": {},
        "outputId": "bd8d35f8-5929-4178-e50a-62e7a2b32c53"
      },
      "source": [
        "df"
      ],
      "execution_count": 0,
      "outputs": [
        {
          "output_type": "execute_result",
          "data": {
            "text/html": [
              "<div>\n",
              "<style scoped>\n",
              "    .dataframe tbody tr th:only-of-type {\n",
              "        vertical-align: middle;\n",
              "    }\n",
              "\n",
              "    .dataframe tbody tr th {\n",
              "        vertical-align: top;\n",
              "    }\n",
              "\n",
              "    .dataframe thead th {\n",
              "        text-align: right;\n",
              "    }\n",
              "</style>\n",
              "<table border=\"1\" class=\"dataframe\">\n",
              "  <thead>\n",
              "    <tr style=\"text-align: right;\">\n",
              "      <th></th>\n",
              "      <th>opponent</th>\n",
              "      <th>venue</th>\n",
              "      <th>outlook</th>\n",
              "      <th>toss</th>\n",
              "      <th>result</th>\n",
              "    </tr>\n",
              "  </thead>\n",
              "  <tbody>\n",
              "    <tr>\n",
              "      <th>0</th>\n",
              "      <td>kkr</td>\n",
              "      <td>bangalore</td>\n",
              "      <td>overcast</td>\n",
              "      <td>lost</td>\n",
              "      <td>won</td>\n",
              "    </tr>\n",
              "    <tr>\n",
              "      <th>1</th>\n",
              "      <td>mi</td>\n",
              "      <td>mumbai</td>\n",
              "      <td>sunny</td>\n",
              "      <td>won</td>\n",
              "      <td>won</td>\n",
              "    </tr>\n",
              "    <tr>\n",
              "      <th>2</th>\n",
              "      <td>rcb</td>\n",
              "      <td>mumbai</td>\n",
              "      <td>overcast</td>\n",
              "      <td>won</td>\n",
              "      <td>won</td>\n",
              "    </tr>\n",
              "    <tr>\n",
              "      <th>3</th>\n",
              "      <td>kkr</td>\n",
              "      <td>bangalore</td>\n",
              "      <td>sunny</td>\n",
              "      <td>lost</td>\n",
              "      <td>won</td>\n",
              "    </tr>\n",
              "    <tr>\n",
              "      <th>4</th>\n",
              "      <td>kkr</td>\n",
              "      <td>bangalore</td>\n",
              "      <td>sunny</td>\n",
              "      <td>won</td>\n",
              "      <td>won</td>\n",
              "    </tr>\n",
              "    <tr>\n",
              "      <th>5</th>\n",
              "      <td>mi</td>\n",
              "      <td>chennai</td>\n",
              "      <td>sunny</td>\n",
              "      <td>won</td>\n",
              "      <td>lost</td>\n",
              "    </tr>\n",
              "    <tr>\n",
              "      <th>6</th>\n",
              "      <td>rcb</td>\n",
              "      <td>chennai</td>\n",
              "      <td>sunny</td>\n",
              "      <td>won</td>\n",
              "      <td>lost</td>\n",
              "    </tr>\n",
              "    <tr>\n",
              "      <th>7</th>\n",
              "      <td>kkr</td>\n",
              "      <td>chennai</td>\n",
              "      <td>overcast</td>\n",
              "      <td>won</td>\n",
              "      <td>won</td>\n",
              "    </tr>\n",
              "    <tr>\n",
              "      <th>8</th>\n",
              "      <td>rr</td>\n",
              "      <td>bangalore</td>\n",
              "      <td>sunny</td>\n",
              "      <td>lost</td>\n",
              "      <td>won</td>\n",
              "    </tr>\n",
              "    <tr>\n",
              "      <th>9</th>\n",
              "      <td>rcb</td>\n",
              "      <td>mumbai</td>\n",
              "      <td>overcast</td>\n",
              "      <td>won</td>\n",
              "      <td>won</td>\n",
              "    </tr>\n",
              "    <tr>\n",
              "      <th>10</th>\n",
              "      <td>kkr</td>\n",
              "      <td>chennai</td>\n",
              "      <td>sunny</td>\n",
              "      <td>won</td>\n",
              "      <td>won</td>\n",
              "    </tr>\n",
              "    <tr>\n",
              "      <th>11</th>\n",
              "      <td>rcb</td>\n",
              "      <td>bangalore</td>\n",
              "      <td>sunny</td>\n",
              "      <td>won</td>\n",
              "      <td>won</td>\n",
              "    </tr>\n",
              "    <tr>\n",
              "      <th>12</th>\n",
              "      <td>rr</td>\n",
              "      <td>chennai</td>\n",
              "      <td>overcast</td>\n",
              "      <td>won</td>\n",
              "      <td>won</td>\n",
              "    </tr>\n",
              "    <tr>\n",
              "      <th>13</th>\n",
              "      <td>kkr</td>\n",
              "      <td>chennai</td>\n",
              "      <td>overcast</td>\n",
              "      <td>won</td>\n",
              "      <td>won</td>\n",
              "    </tr>\n",
              "    <tr>\n",
              "      <th>14</th>\n",
              "      <td>kkr</td>\n",
              "      <td>bangalore</td>\n",
              "      <td>overcast</td>\n",
              "      <td>won</td>\n",
              "      <td>won</td>\n",
              "    </tr>\n",
              "    <tr>\n",
              "      <th>15</th>\n",
              "      <td>rcb</td>\n",
              "      <td>chennai</td>\n",
              "      <td>overcast</td>\n",
              "      <td>won</td>\n",
              "      <td>lost</td>\n",
              "    </tr>\n",
              "    <tr>\n",
              "      <th>16</th>\n",
              "      <td>kkr</td>\n",
              "      <td>bangalore</td>\n",
              "      <td>overcast</td>\n",
              "      <td>won</td>\n",
              "      <td>lost</td>\n",
              "    </tr>\n",
              "    <tr>\n",
              "      <th>17</th>\n",
              "      <td>mi</td>\n",
              "      <td>bangalore</td>\n",
              "      <td>sunny</td>\n",
              "      <td>won</td>\n",
              "      <td>lost</td>\n",
              "    </tr>\n",
              "    <tr>\n",
              "      <th>18</th>\n",
              "      <td>rcb</td>\n",
              "      <td>chennai</td>\n",
              "      <td>sunny</td>\n",
              "      <td>lost</td>\n",
              "      <td>won</td>\n",
              "    </tr>\n",
              "    <tr>\n",
              "      <th>19</th>\n",
              "      <td>mi</td>\n",
              "      <td>chennai</td>\n",
              "      <td>overcast</td>\n",
              "      <td>won</td>\n",
              "      <td>lost</td>\n",
              "    </tr>\n",
              "    <tr>\n",
              "      <th>20</th>\n",
              "      <td>kkr</td>\n",
              "      <td>bangalore</td>\n",
              "      <td>sunny</td>\n",
              "      <td>lost</td>\n",
              "      <td>won</td>\n",
              "    </tr>\n",
              "    <tr>\n",
              "      <th>21</th>\n",
              "      <td>rcb</td>\n",
              "      <td>bangalore</td>\n",
              "      <td>sunny</td>\n",
              "      <td>won</td>\n",
              "      <td>lost</td>\n",
              "    </tr>\n",
              "    <tr>\n",
              "      <th>22</th>\n",
              "      <td>rr</td>\n",
              "      <td>bangalore</td>\n",
              "      <td>overcast</td>\n",
              "      <td>won</td>\n",
              "      <td>won</td>\n",
              "    </tr>\n",
              "    <tr>\n",
              "      <th>23</th>\n",
              "      <td>kkr</td>\n",
              "      <td>mumbai</td>\n",
              "      <td>sunny</td>\n",
              "      <td>won</td>\n",
              "      <td>lost</td>\n",
              "    </tr>\n",
              "    <tr>\n",
              "      <th>24</th>\n",
              "      <td>rr</td>\n",
              "      <td>chennai</td>\n",
              "      <td>overcast</td>\n",
              "      <td>lost</td>\n",
              "      <td>won</td>\n",
              "    </tr>\n",
              "  </tbody>\n",
              "</table>\n",
              "</div>"
            ],
            "text/plain": [
              "   opponent      venue   outlook  toss result\n",
              "0       kkr  bangalore  overcast  lost    won\n",
              "1        mi     mumbai     sunny   won    won\n",
              "2       rcb     mumbai  overcast   won    won\n",
              "3       kkr  bangalore     sunny  lost    won\n",
              "4       kkr  bangalore     sunny   won    won\n",
              "5        mi    chennai     sunny   won   lost\n",
              "6       rcb    chennai     sunny   won   lost\n",
              "7       kkr    chennai  overcast   won    won\n",
              "8        rr  bangalore     sunny  lost    won\n",
              "9       rcb     mumbai  overcast   won    won\n",
              "10      kkr    chennai     sunny   won    won\n",
              "11      rcb  bangalore     sunny   won    won\n",
              "12       rr    chennai  overcast   won    won\n",
              "13      kkr    chennai  overcast   won    won\n",
              "14      kkr  bangalore  overcast   won    won\n",
              "15      rcb    chennai  overcast   won   lost\n",
              "16      kkr  bangalore  overcast   won   lost\n",
              "17       mi  bangalore     sunny   won   lost\n",
              "18      rcb    chennai     sunny  lost    won\n",
              "19       mi    chennai  overcast   won   lost\n",
              "20      kkr  bangalore     sunny  lost    won\n",
              "21      rcb  bangalore     sunny   won   lost\n",
              "22       rr  bangalore  overcast   won    won\n",
              "23      kkr     mumbai     sunny   won   lost\n",
              "24       rr    chennai  overcast  lost    won"
            ]
          },
          "metadata": {
            "tags": []
          },
          "execution_count": 4
        }
      ]
    },
    {
      "cell_type": "code",
      "metadata": {
        "id": "5cFmbGdPXmeh",
        "colab_type": "code",
        "colab": {}
      },
      "source": [
        "def fetch_crtb(colname,name):\n",
        "    Yes=pd.crosstab(df[colname],df['result']).loc[name,'won']/pd.crosstab(df[colname],df['result']).loc[:,'won'].sum()\n",
        "    No=pd.crosstab(df[colname],df['result']).loc[name,'lost']/pd.crosstab(df[colname],df['result']).loc[:,'lost'].sum()\n",
        "    return(Yes,No)"
      ],
      "execution_count": 0,
      "outputs": []
    },
    {
      "cell_type": "code",
      "metadata": {
        "id": "skG2_9BxXmej",
        "colab_type": "code",
        "colab": {}
      },
      "source": [
        ""
      ],
      "execution_count": 0,
      "outputs": []
    },
    {
      "cell_type": "code",
      "metadata": {
        "id": "fXQUm_7gXmel",
        "colab_type": "code",
        "colab": {}
      },
      "source": [
        ""
      ],
      "execution_count": 0,
      "outputs": []
    },
    {
      "cell_type": "code",
      "metadata": {
        "id": "ymIlJ-wMXmeo",
        "colab_type": "code",
        "colab": {}
      },
      "source": [
        "def naive_bayes_func(opponent,opponent_name,venue,venue_name,outlook,outlook_name,toss,toss_value):\n",
        "    Pwin=df['result'].value_counts().values[0]/len(df['result'].values)\n",
        "    Plost=1-Pwin\n",
        "    oYes,oNo=fetch_crtb(opponent,opponent_name)\n",
        "    vYes,vNo=fetch_crtb(venue,venue_name)\n",
        "    outYes,outNo=fetch_crtb(outlook,outlook_name)\n",
        "    tYes,tNo=fetch_crtb(toss,toss_value)\n",
        "    if(Pwin*oYes*vYes*outYes*tYes)>(Plost*oNo*vNo*outNo*tNo):\n",
        "        print('WIN')\n",
        "    else:\n",
        "        print('LOSS')"
      ],
      "execution_count": 0,
      "outputs": []
    },
    {
      "cell_type": "code",
      "metadata": {
        "id": "_jPnpGp1Xmeq",
        "colab_type": "code",
        "colab": {},
        "outputId": "5a58d0be-3b11-45dc-f149-20f73276a7be"
      },
      "source": [
        "naive_bayes_func('opponent','kkr','venue','chennai','outlook','overcast','toss','lost')"
      ],
      "execution_count": 0,
      "outputs": [
        {
          "output_type": "stream",
          "text": [
            "WIN\n"
          ],
          "name": "stdout"
        }
      ]
    },
    {
      "cell_type": "code",
      "metadata": {
        "id": "x8AvBFvOXmes",
        "colab_type": "code",
        "colab": {}
      },
      "source": [
        ""
      ],
      "execution_count": 0,
      "outputs": []
    },
    {
      "cell_type": "code",
      "metadata": {
        "id": "ldv4hwruXmeu",
        "colab_type": "code",
        "colab": {}
      },
      "source": [
        ""
      ],
      "execution_count": 0,
      "outputs": []
    }
  ]
}